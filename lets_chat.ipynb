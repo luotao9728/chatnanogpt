{
 "cells": [
  {
   "cell_type": "code",
   "execution_count": null,
   "metadata": {},
   "outputs": [],
   "source": [
    "# Import packages\n",
    "from chatnanogpt import ChatNanoGPT\n",
    "import nltk\n",
    "import evaluate\n",
    "# Initialize ChatNanoGPT\n",
    "chat = ChatNanoGPT()"
   ]
  },
  {
   "cell_type": "code",
   "execution_count": null,
   "metadata": {},
   "outputs": [],
   "source": [
    "# Sample summary\n",
    "summary = {\n",
    "    \"mode\": \"summarization\",\n",
    "    \"article\" : \"Editor's note: In our Behind the Scenes series, CNN correspondents share their experiences in covering news and analyze the stories behind the events. Here, Soledad O'Brien takes users inside a jail where many of the inmates are mentally ill. An inmate housed on the \\\"forgotten floor,\\\" where many mentally ill inmates are housed in Miami before trial. MIAMI, Florida (CNN) -- The ninth floor of the Miami-Dade pretrial detention facility is dubbed the \\\"forgotten floor.\\\" Here, inmates with the most severe mental illnesses are incarcerated until they're ready to appear in court. Most often, they face drug charges or charges of assaulting an officer --charges that Judge Steven Leifman says are usually \\\"avoidable felonies.\\\" He says the arrests often result from confrontations with police. Mentally ill people often won't do what they're told when police arrive on the scene -- confrontation seems to exacerbate their illness and they become more paranoid, delusional, and less likely to follow directions, according to Leifman. So, they end up on the ninth floor severely mentally disturbed, but not getting any real help because they're in jail. We toured the jail with Leifman. He is well known in Miami as an advocate for justice and the mentally ill. Even though we were not exactly welcomed with open arms by the guards, we were given permission to shoot videotape and tour the floor. Go inside the 'forgotten floor' » . At first, it's hard to determine where the people are. The prisoners are wearing sleeveless robes. Imagine cutting holes for arms and feet in a heavy wool sleeping bag -- that's kind of what they look like. They're designed to keep the mentally ill patients from injuring themselves. That's also why they have no shoes, laces or mattresses. Leifman says about one-third of all people in Miami-Dade county jails are mentally ill. So, he says, the sheer volume is overwhelming the system, and the result is what we see on the ninth floor.\"\n",
    "}\n",
    "\n",
    "summary_output = chat.chat(summary)\n",
    "reference = \"Mentally ill inmates in Miami are housed on the \\\"forgotten floor\\\" Judge Steven Leifman says most are there as a result of \\\"avoidable felonies\\\" While CNN tours facility, patient shouts: \\\"I am the son of the president\\\" Leifman says the system is unjust and he's fighting for change .\"\n",
    "\n",
    "print(\"Model output: %s\\n\" % summary_output)\n",
    "print(\"Reference: %s\\n\" % reference)\n",
    "\n",
    "BLEUscore = nltk.translate.bleu_score.sentence_bleu([reference.split()], summary_output.split(), weights = (0.5, 0.5))\n",
    "print('BLEU score -> {}'.format(BLEUscore))"
   ]
  },
  {
   "cell_type": "code",
   "execution_count": null,
   "metadata": {},
   "outputs": [],
   "source": [
    "# Sample qa\n",
    "qa = {\n",
    "    \"mode\": \"qa\",\n",
    "    \"context\" : \"Architecturally, the school has a Catholic character. Atop the Main Building's gold dome is a golden statue of the Virgin Mary. Immediately in front of the Main Building and facing it, is a copper statue of Christ with arms upraised with the legend.\",\n",
    "    \"question\" : \"To whom did the Virgin Mary allegedly appear in 1858 in Lourdes France?\"\n",
    "}\n",
    "\n",
    "qa_output = chat.chat(qa)\n",
    "reference = \"Saint Bernadette Soubirous\"\n",
    "\n",
    "print(\"Model output: %s\\n\" % qa_output)\n",
    "print(\"Reference: %s\\n\" % reference)\n",
    "\n",
    "rouge = evaluate.load('rouge')\n",
    "ROGUEscore = rouge.compute(predictions=[qa_output], references=[reference])\n",
    "print('ROGUE score -> {}'.format(ROGUEscore))"
   ]
  },
  {
   "cell_type": "code",
   "execution_count": null,
   "metadata": {},
   "outputs": [],
   "source": []
  }
 ],
 "metadata": {
  "kernelspec": {
   "display_name": "base",
   "language": "python",
   "name": "python3"
  },
  "language_info": {
   "codemirror_mode": {
    "name": "ipython",
    "version": 3
   },
   "file_extension": ".py",
   "mimetype": "text/x-python",
   "name": "python",
   "nbconvert_exporter": "python",
   "pygments_lexer": "ipython3",
   "version": "3.10.13"
  }
 },
 "nbformat": 4,
 "nbformat_minor": 2
}
